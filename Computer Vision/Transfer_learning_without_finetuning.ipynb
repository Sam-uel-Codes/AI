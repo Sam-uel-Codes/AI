{
  "nbformat": 4,
  "nbformat_minor": 0,
  "metadata": {
    "colab": {
      "provenance": [],
      "gpuType": "T4",
      "include_colab_link": true
    },
    "kernelspec": {
      "name": "python3",
      "display_name": "Python 3"
    },
    "language_info": {
      "name": "python"
    },
    "accelerator": "GPU"
  },
  "cells": [
    {
      "cell_type": "markdown",
      "metadata": {
        "id": "view-in-github",
        "colab_type": "text"
      },
      "source": [
        "<a href=\"https://colab.research.google.com/github/Sam-uel-Codes/AI/blob/main/Transfer_learning_without_finetuning.ipynb\" target=\"_parent\"><img src=\"https://colab.research.google.com/assets/colab-badge.svg\" alt=\"Open In Colab\"/></a>"
      ]
    },
    {
      "cell_type": "markdown",
      "source": [
        "# Transfer learning without Fine - Tuning\n",
        "\n",
        "(All the notes are written for aided understanding of the code)."
      ],
      "metadata": {
        "id": "8FyjDLNAW1oU"
      }
    },
    {
      "cell_type": "markdown",
      "source": [
        "**Importing**"
      ],
      "metadata": {
        "id": "-I_63sX9W-iU"
      }
    },
    {
      "cell_type": "code",
      "source": [
        "# Imports\n",
        "import wandb\n",
        "from wandb.integration.keras import WandbMetricsLogger\n",
        "\n",
        "import tensorflow as tf\n",
        "import matplotlib.pyplot as plt\n",
        "from tensorflow import keras"
      ],
      "metadata": {
        "id": "JUO3LGMQW1-t"
      },
      "execution_count": 2,
      "outputs": []
    },
    {
      "cell_type": "markdown",
      "source": [
        "## **Adding Sweep Configurations**\n",
        "\n",
        "About Sweep Configurations -> sweep configuration typically consists of several key-value pairs, nested as necessary.\n",
        "\n",
        "-  **Grid Search**\n",
        "Description: Iterates through every possible combination of parameter values specified.\n",
        "- **Random Search**\n",
        "Description: Randomly selects combinations of parameters, as defined by their value distributions or sets.\n",
        "- **Bayesian Search**\n",
        "Description: Uses probabilistic models to select new parameter combinations, aiming to more efficiently find optimal values.\n",
        "\n",
        "Top-Level Required Keys\n",
        "- method (required): Defines the sweep method (grid, random, or bayes).\n",
        "- parameters (required): Specifies the parameters to be swept and their possible values or distributions."
      ],
      "metadata": {
        "id": "ePYSaQZeXC24"
      }
    },
    {
      "cell_type": "code",
      "source": [
        "# Sweep configuration\n",
        "sweep_config = {\n",
        "    'method': 'grid',\n",
        "    'metric': {'name': 'val_accuracy', 'goal': 'maximize'},\n",
        "    'parameters': {\n",
        "        'batch_size': {'values': [8]},\n",
        "        'learning_rate': {'values': [0.0001]},\n",
        "        'img_size': {'values': [128]},  # Set a reasonably large size for MobileNetV2\n",
        "        'epochs': {'values': [10]},\n",
        "        'experiment': {'values': ['transfer_learning']}\n",
        "    }\n",
        "}"
      ],
      "metadata": {
        "id": "q3LA0ZUxEXDB"
      },
      "execution_count": 3,
      "outputs": []
    },
    {
      "cell_type": "markdown",
      "source": [
        "## Brief on how to Work with Weights and Biases\n",
        "\n",
        "1 - Import and Login\n",
        "--> Import wandb and log in (if not using an environment variable/token).\n",
        "\n",
        "2 - Sweep Configuration\n",
        "--> Define a configuration dictionary specifying the sweep method (grid, random, bayesian), parameters, and target metric.\n",
        "\n",
        "3 - Initialize the Sweep\n",
        "--> Call the sweep initialization method.\n",
        "\n",
        "4 - Define the Training Function\n",
        "--> This function should encapsulate all experiment logic.\n",
        "<br> Best Practice: Place with wandb.init() as run: at the very beginning of this function.\n",
        "\n",
        "5 - Data Preparation and Model Building\n",
        "--> Process the dataset and build the model using settings from config.\n",
        "\n",
        "6 - Compile and Train the Model\n",
        "--> Compile the model, then train using callbacks such as WandbMetricsLoggerCompile.\n",
        "\n",
        "7 - Launch the Sweep Agent\n",
        "--> Use the agent function to execute the sweep, passing the sweep ID and your training function."
      ],
      "metadata": {
        "id": "sOcgxgRTYK8r"
      }
    },
    {
      "cell_type": "markdown",
      "source": [
        "### Questions on Why ?\n",
        "\n",
        "**1 - When and Why to Initialize W&B** <br>\n",
        "--> wandb.init is a function, wandb.init(), you are initializing a new W&B run. <br>\n",
        "- Creates a new run session in W&B, generating a unique run ID.\n",
        "- Initializes experiment logging, so anything you log (metrics, parameters, files) is associated with that specific run.\n",
        "- Pulls sweep or configuration values if you're running in a sweep, making them available via wandb.config.\n",
        "\n",
        "**2 - What exactly does sweep do?** <br>\n",
        "--> Initializing a sweep in Weights & Biases (W&B) sets up an automated, organized infrastructure for exploring combinations of hyperparameters in your machine learning workflow.\n",
        "\n",
        "-  Automates Hyperparameter\n",
        "\n",
        "- Defines an Experiment Plan:\n",
        "  - The model training script or program to run\n",
        "  - Which hyperparameters to test, with their possible values or ranges\n",
        "  - The chosen search method\n",
        "  - The metric to optimize and its direction (minimize or maximize)\n",
        "\n",
        "- Returns a Sweep ID: This unique identifier is how W&B tracks and coordinates all experiments (runs) associated with this sweep.\n",
        "\n",
        "- Orchestrates Multiple Runs\n",
        "\n"
      ],
      "metadata": {
        "id": "RVzcyHqUZ4FT"
      }
    },
    {
      "cell_type": "markdown",
      "source": [
        "## All comes together\n",
        "\n",
        "1. Agent starts -->\tReceives sweep ID, contacts controller for config\n",
        "2. wandb.init() -->\tDetects sweep session, registers run as part of sweep\n",
        "3. Config assignment --> Injects hyperparameters for this run via wandb.config\n",
        "4. Run tracking --> Logs results as a new run linked to the sweep (using sweep ID)"
      ],
      "metadata": {
        "id": "uMZSSE9Nd7jO"
      }
    },
    {
      "cell_type": "code",
      "source": [
        "# Initialize W&B sweep\n",
        "sweep_id = wandb.sweep(sweep_config, project=\"5-flowers-transfer-learning\")"
      ],
      "metadata": {
        "colab": {
          "base_uri": "https://localhost:8080/",
          "height": 191
        },
        "id": "Jt0fSUKKEaUf",
        "outputId": "d44440d6-d896-4c17-832b-82012c059ed2"
      },
      "execution_count": 4,
      "outputs": [
        {
          "output_type": "display_data",
          "data": {
            "text/plain": [
              "<IPython.core.display.Javascript object>"
            ],
            "application/javascript": [
              "\n",
              "        window._wandbApiKey = new Promise((resolve, reject) => {\n",
              "            function loadScript(url) {\n",
              "            return new Promise(function(resolve, reject) {\n",
              "                let newScript = document.createElement(\"script\");\n",
              "                newScript.onerror = reject;\n",
              "                newScript.onload = resolve;\n",
              "                document.body.appendChild(newScript);\n",
              "                newScript.src = url;\n",
              "            });\n",
              "            }\n",
              "            loadScript(\"https://cdn.jsdelivr.net/npm/postmate/build/postmate.min.js\").then(() => {\n",
              "            const iframe = document.createElement('iframe')\n",
              "            iframe.style.cssText = \"width:0;height:0;border:none\"\n",
              "            document.body.appendChild(iframe)\n",
              "            const handshake = new Postmate({\n",
              "                container: iframe,\n",
              "                url: 'https://wandb.ai/authorize'\n",
              "            });\n",
              "            const timeout = setTimeout(() => reject(\"Couldn't auto authenticate\"), 5000)\n",
              "            handshake.then(function(child) {\n",
              "                child.on('authorize', data => {\n",
              "                    clearTimeout(timeout)\n",
              "                    resolve(data)\n",
              "                });\n",
              "            });\n",
              "            })\n",
              "        });\n",
              "    "
            ]
          },
          "metadata": {}
        },
        {
          "output_type": "stream",
          "name": "stderr",
          "text": [
            "\u001b[34m\u001b[1mwandb\u001b[0m: Logging into wandb.ai. (Learn how to deploy a W&B server locally: https://wandb.me/wandb-server)\n",
            "\u001b[34m\u001b[1mwandb\u001b[0m: You can find your API key in your browser here: https://wandb.ai/authorize?ref=models\n",
            "wandb: Paste an API key from your profile and hit enter:"
          ]
        },
        {
          "name": "stdout",
          "output_type": "stream",
          "text": [
            " ··········\n"
          ]
        },
        {
          "output_type": "stream",
          "name": "stderr",
          "text": [
            "\u001b[34m\u001b[1mwandb\u001b[0m: \u001b[33mWARNING\u001b[0m If you're specifying your api key in code, ensure this code is not shared publicly.\n",
            "\u001b[34m\u001b[1mwandb\u001b[0m: \u001b[33mWARNING\u001b[0m Consider setting the WANDB_API_KEY environment variable, or running `wandb login` from the command line.\n",
            "\u001b[34m\u001b[1mwandb\u001b[0m: No netrc file found, creating one.\n",
            "\u001b[34m\u001b[1mwandb\u001b[0m: Appending key for api.wandb.ai to your netrc file: /root/.netrc\n"
          ]
        },
        {
          "output_type": "stream",
          "name": "stdout",
          "text": [
            "Create sweep with ID: ikcoglxi\n",
            "Sweep URL: https://wandb.ai/samtrieswnb-vellore-institute-of-technology/5-flowers-transfer-learning/sweeps/ikcoglxi\n"
          ]
        }
      ]
    },
    {
      "cell_type": "code",
      "source": [
        "# Train function\n",
        "def train():\n",
        "    with wandb.init() as run:\n",
        "        config = wandb.config\n",
        "\n",
        "        IMG_HEIGHT = config.img_size\n",
        "        IMG_WIDTH = config.img_size\n",
        "        IMG_CHANNELS = 3\n",
        "        CLASS_NAMES = [\"daisy\", \"dandelion\", \"roses\", \"sunflowers\", \"tulips\"]\n",
        "\n",
        "        # Helper functions\n",
        "        def read_and_decode(filename, resize_dims):\n",
        "            img_bytes = tf.io.read_file(filename)\n",
        "            img = tf.image.decode_jpeg(img_bytes, channels=IMG_CHANNELS)\n",
        "            img = tf.image.convert_image_dtype(img, tf.float32)\n",
        "            img = tf.image.resize(img, resize_dims)\n",
        "            return img\n",
        "\n",
        "        def parse_csvline(csv_line):\n",
        "            record_default = [\"\", \"\"]\n",
        "            filename, label_string = tf.io.decode_csv(csv_line, record_default)\n",
        "            img = read_and_decode(filename, [IMG_HEIGHT, IMG_WIDTH])\n",
        "            label = tf.where(tf.equal(CLASS_NAMES, label_string))[0, 0]\n",
        "            return img, label\n",
        "\n",
        "        # Prepare datasets\n",
        "        train_dataset = (\n",
        "            tf.data.TextLineDataset(\"gs://cloud-ml-data/img/flower_photos/train_set.csv\")\n",
        "            .map(parse_csvline, num_parallel_calls=tf.data.AUTOTUNE)\n",
        "            .batch(config.batch_size)\n",
        "            .prefetch(tf.data.AUTOTUNE)\n",
        "        )\n",
        "\n",
        "        eval_dataset = (\n",
        "            tf.data.TextLineDataset(\"gs://cloud-ml-data/img/flower_photos/eval_set.csv\")\n",
        "            .map(parse_csvline, num_parallel_calls=tf.data.AUTOTUNE)\n",
        "            .batch(config.batch_size)\n",
        "            .prefetch(tf.data.AUTOTUNE)\n",
        "        )\n",
        "\n",
        "        # Build model\n",
        "        base_model = tf.keras.applications.MobileNetV2(\n",
        "            input_shape=(IMG_HEIGHT, IMG_WIDTH, IMG_CHANNELS),\n",
        "            include_top=False,    # Remove ImageNet head\n",
        "            weights=\"imagenet\"    # Use pretrained weights\n",
        "        )\n",
        "        base_model.trainable = False  # Freeze base\n",
        "\n",
        "        model = keras.Sequential([\n",
        "            base_model,\n",
        "            keras.layers.GlobalAveragePooling2D(),\n",
        "            keras.layers.BatchNormalization(),       # Add BatchNorm\n",
        "            keras.layers.Dense(len(CLASS_NAMES), activation=\"softmax\")\n",
        "        ])\n",
        "\n",
        "        # Compile model\n",
        "        model.compile(\n",
        "            optimizer=keras.optimizers.Adam(learning_rate=config.learning_rate),\n",
        "            loss=tf.keras.losses.SparseCategoricalCrossentropy(from_logits=False),\n",
        "            metrics=[\"accuracy\"]\n",
        "        )\n",
        "\n",
        "        # Visualize model\n",
        "        model.summary()\n",
        "\n",
        "        keras.utils.plot_model(model, show_shapes=True, show_layer_names=True, to_file=\"model_visualization.png\")\n",
        "\n",
        "        # Train\n",
        "        callbacks = [WandbMetricsLogger(log_freq=5)]\n",
        "\n",
        "        model.fit(\n",
        "            train_dataset,\n",
        "            validation_data=eval_dataset,\n",
        "            epochs=config.epochs,\n",
        "            callbacks=callbacks\n",
        "        )"
      ],
      "metadata": {
        "id": "KswBFjMiEeY9"
      },
      "execution_count": 5,
      "outputs": []
    },
    {
      "cell_type": "markdown",
      "source": [
        "# Base model\n",
        "\n",
        "**Pre-trained Model**\n",
        "\n",
        " - When you use a pretrained model (like MobileNetV2), it normally comes with a default \"top\"—the last few layers that output a prediction for those 1,000 ImageNet classes.\n",
        " - Setting include_top=True means the model will end with this default classifier for the 1,000 ImageNet outputs.\n",
        " - include_top=False means you do not load these final layers. Instead, you get the core of the network (the feature extractor), but not the part that makes predictions for ImageNet. This allows you to add your own output layers (e.g., for a different number of classes specific to your problem).\n",
        "\n",
        "**Channels**\n",
        "- In input layer, channels mean color combo.\n",
        "- In CNN layer after processed, channels are the total number of feature maps.\n",
        "- Batch size is how many images are processed in one forward (and backward) pass."
      ],
      "metadata": {
        "id": "Fp3MhqwaqTHZ"
      }
    },
    {
      "cell_type": "code",
      "source": [
        "# Launch W&B agent\n",
        "wandb.agent(sweep_id, function=train)"
      ],
      "metadata": {
        "colab": {
          "base_uri": "https://localhost:8080/",
          "height": 1000
        },
        "id": "qc4eKjGAEh8I",
        "outputId": "5f501d86-0fbd-4963-db4c-71ef72c7eed1",
        "collapsed": true
      },
      "execution_count": 6,
      "outputs": [
        {
          "output_type": "stream",
          "name": "stderr",
          "text": [
            "\u001b[34m\u001b[1mwandb\u001b[0m: Agent Starting Run: xo9k7xm9 with config:\n",
            "\u001b[34m\u001b[1mwandb\u001b[0m: \tbatch_size: 8\n",
            "\u001b[34m\u001b[1mwandb\u001b[0m: \tepochs: 10\n",
            "\u001b[34m\u001b[1mwandb\u001b[0m: \texperiment: transfer_learning\n",
            "\u001b[34m\u001b[1mwandb\u001b[0m: \timg_size: 128\n",
            "\u001b[34m\u001b[1mwandb\u001b[0m: \tlearning_rate: 0.0001\n",
            "\u001b[34m\u001b[1mwandb\u001b[0m: Currently logged in as: \u001b[33msamtrieswnb\u001b[0m (\u001b[33msamtrieswnb-vellore-institute-of-technology\u001b[0m) to \u001b[32mhttps://api.wandb.ai\u001b[0m. Use \u001b[1m`wandb login --relogin`\u001b[0m to force relogin\n"
          ]
        },
        {
          "output_type": "display_data",
          "data": {
            "text/plain": [
              "<IPython.core.display.HTML object>"
            ],
            "text/html": [
              "Tracking run with wandb version 0.21.0"
            ]
          },
          "metadata": {}
        },
        {
          "output_type": "display_data",
          "data": {
            "text/plain": [
              "<IPython.core.display.HTML object>"
            ],
            "text/html": [
              "Run data is saved locally in <code>/content/wandb/run-20250721_105823-xo9k7xm9</code>"
            ]
          },
          "metadata": {}
        },
        {
          "output_type": "display_data",
          "data": {
            "text/plain": [
              "<IPython.core.display.HTML object>"
            ],
            "text/html": [
              "Syncing run <strong><a href='https://wandb.ai/samtrieswnb-vellore-institute-of-technology/5-flowers-transfer-learning/runs/xo9k7xm9' target=\"_blank\">hopeful-sweep-1</a></strong> to <a href='https://wandb.ai/samtrieswnb-vellore-institute-of-technology/5-flowers-transfer-learning' target=\"_blank\">Weights & Biases</a> (<a href='https://wandb.me/developer-guide' target=\"_blank\">docs</a>)<br>Sweep page: <a href='https://wandb.ai/samtrieswnb-vellore-institute-of-technology/5-flowers-transfer-learning/sweeps/ikcoglxi' target=\"_blank\">https://wandb.ai/samtrieswnb-vellore-institute-of-technology/5-flowers-transfer-learning/sweeps/ikcoglxi</a>"
            ]
          },
          "metadata": {}
        },
        {
          "output_type": "display_data",
          "data": {
            "text/plain": [
              "<IPython.core.display.HTML object>"
            ],
            "text/html": [
              " View project at <a href='https://wandb.ai/samtrieswnb-vellore-institute-of-technology/5-flowers-transfer-learning' target=\"_blank\">https://wandb.ai/samtrieswnb-vellore-institute-of-technology/5-flowers-transfer-learning</a>"
            ]
          },
          "metadata": {}
        },
        {
          "output_type": "display_data",
          "data": {
            "text/plain": [
              "<IPython.core.display.HTML object>"
            ],
            "text/html": [
              " View sweep at <a href='https://wandb.ai/samtrieswnb-vellore-institute-of-technology/5-flowers-transfer-learning/sweeps/ikcoglxi' target=\"_blank\">https://wandb.ai/samtrieswnb-vellore-institute-of-technology/5-flowers-transfer-learning/sweeps/ikcoglxi</a>"
            ]
          },
          "metadata": {}
        },
        {
          "output_type": "display_data",
          "data": {
            "text/plain": [
              "<IPython.core.display.HTML object>"
            ],
            "text/html": [
              " View run at <a href='https://wandb.ai/samtrieswnb-vellore-institute-of-technology/5-flowers-transfer-learning/runs/xo9k7xm9' target=\"_blank\">https://wandb.ai/samtrieswnb-vellore-institute-of-technology/5-flowers-transfer-learning/runs/xo9k7xm9</a>"
            ]
          },
          "metadata": {}
        },
        {
          "output_type": "stream",
          "name": "stdout",
          "text": [
            "Downloading data from https://storage.googleapis.com/tensorflow/keras-applications/mobilenet_v2/mobilenet_v2_weights_tf_dim_ordering_tf_kernels_1.0_128_no_top.h5\n",
            "\u001b[1m9406464/9406464\u001b[0m \u001b[32m━━━━━━━━━━━━━━━━━━━━\u001b[0m\u001b[37m\u001b[0m \u001b[1m2s\u001b[0m 0us/step\n"
          ]
        },
        {
          "output_type": "display_data",
          "data": {
            "text/plain": [
              "\u001b[1mModel: \"sequential\"\u001b[0m\n"
            ],
            "text/html": [
              "<pre style=\"white-space:pre;overflow-x:auto;line-height:normal;font-family:Menlo,'DejaVu Sans Mono',consolas,'Courier New',monospace\"><span style=\"font-weight: bold\">Model: \"sequential\"</span>\n",
              "</pre>\n"
            ]
          },
          "metadata": {}
        },
        {
          "output_type": "display_data",
          "data": {
            "text/plain": [
              "┏━━━━━━━━━━━━━━━━━━━━━━━━━━━━━━━━━┳━━━━━━━━━━━━━━━━━━━━━━━━┳━━━━━━━━━━━━━━━┓\n",
              "┃\u001b[1m \u001b[0m\u001b[1mLayer (type)                   \u001b[0m\u001b[1m \u001b[0m┃\u001b[1m \u001b[0m\u001b[1mOutput Shape          \u001b[0m\u001b[1m \u001b[0m┃\u001b[1m \u001b[0m\u001b[1m      Param #\u001b[0m\u001b[1m \u001b[0m┃\n",
              "┡━━━━━━━━━━━━━━━━━━━━━━━━━━━━━━━━━╇━━━━━━━━━━━━━━━━━━━━━━━━╇━━━━━━━━━━━━━━━┩\n",
              "│ mobilenetv2_1.00_128            │ (\u001b[38;5;45mNone\u001b[0m, \u001b[38;5;34m4\u001b[0m, \u001b[38;5;34m4\u001b[0m, \u001b[38;5;34m1280\u001b[0m)     │     \u001b[38;5;34m2,257,984\u001b[0m │\n",
              "│ (\u001b[38;5;33mFunctional\u001b[0m)                    │                        │               │\n",
              "├─────────────────────────────────┼────────────────────────┼───────────────┤\n",
              "│ global_average_pooling2d        │ (\u001b[38;5;45mNone\u001b[0m, \u001b[38;5;34m1280\u001b[0m)           │             \u001b[38;5;34m0\u001b[0m │\n",
              "│ (\u001b[38;5;33mGlobalAveragePooling2D\u001b[0m)        │                        │               │\n",
              "├─────────────────────────────────┼────────────────────────┼───────────────┤\n",
              "│ batch_normalization             │ (\u001b[38;5;45mNone\u001b[0m, \u001b[38;5;34m1280\u001b[0m)           │         \u001b[38;5;34m5,120\u001b[0m │\n",
              "│ (\u001b[38;5;33mBatchNormalization\u001b[0m)            │                        │               │\n",
              "├─────────────────────────────────┼────────────────────────┼───────────────┤\n",
              "│ dense (\u001b[38;5;33mDense\u001b[0m)                   │ (\u001b[38;5;45mNone\u001b[0m, \u001b[38;5;34m5\u001b[0m)              │         \u001b[38;5;34m6,405\u001b[0m │\n",
              "└─────────────────────────────────┴────────────────────────┴───────────────┘\n"
            ],
            "text/html": [
              "<pre style=\"white-space:pre;overflow-x:auto;line-height:normal;font-family:Menlo,'DejaVu Sans Mono',consolas,'Courier New',monospace\">┏━━━━━━━━━━━━━━━━━━━━━━━━━━━━━━━━━┳━━━━━━━━━━━━━━━━━━━━━━━━┳━━━━━━━━━━━━━━━┓\n",
              "┃<span style=\"font-weight: bold\"> Layer (type)                    </span>┃<span style=\"font-weight: bold\"> Output Shape           </span>┃<span style=\"font-weight: bold\">       Param # </span>┃\n",
              "┡━━━━━━━━━━━━━━━━━━━━━━━━━━━━━━━━━╇━━━━━━━━━━━━━━━━━━━━━━━━╇━━━━━━━━━━━━━━━┩\n",
              "│ mobilenetv2_1.00_128            │ (<span style=\"color: #00d7ff; text-decoration-color: #00d7ff\">None</span>, <span style=\"color: #00af00; text-decoration-color: #00af00\">4</span>, <span style=\"color: #00af00; text-decoration-color: #00af00\">4</span>, <span style=\"color: #00af00; text-decoration-color: #00af00\">1280</span>)     │     <span style=\"color: #00af00; text-decoration-color: #00af00\">2,257,984</span> │\n",
              "│ (<span style=\"color: #0087ff; text-decoration-color: #0087ff\">Functional</span>)                    │                        │               │\n",
              "├─────────────────────────────────┼────────────────────────┼───────────────┤\n",
              "│ global_average_pooling2d        │ (<span style=\"color: #00d7ff; text-decoration-color: #00d7ff\">None</span>, <span style=\"color: #00af00; text-decoration-color: #00af00\">1280</span>)           │             <span style=\"color: #00af00; text-decoration-color: #00af00\">0</span> │\n",
              "│ (<span style=\"color: #0087ff; text-decoration-color: #0087ff\">GlobalAveragePooling2D</span>)        │                        │               │\n",
              "├─────────────────────────────────┼────────────────────────┼───────────────┤\n",
              "│ batch_normalization             │ (<span style=\"color: #00d7ff; text-decoration-color: #00d7ff\">None</span>, <span style=\"color: #00af00; text-decoration-color: #00af00\">1280</span>)           │         <span style=\"color: #00af00; text-decoration-color: #00af00\">5,120</span> │\n",
              "│ (<span style=\"color: #0087ff; text-decoration-color: #0087ff\">BatchNormalization</span>)            │                        │               │\n",
              "├─────────────────────────────────┼────────────────────────┼───────────────┤\n",
              "│ dense (<span style=\"color: #0087ff; text-decoration-color: #0087ff\">Dense</span>)                   │ (<span style=\"color: #00d7ff; text-decoration-color: #00d7ff\">None</span>, <span style=\"color: #00af00; text-decoration-color: #00af00\">5</span>)              │         <span style=\"color: #00af00; text-decoration-color: #00af00\">6,405</span> │\n",
              "└─────────────────────────────────┴────────────────────────┴───────────────┘\n",
              "</pre>\n"
            ]
          },
          "metadata": {}
        },
        {
          "output_type": "display_data",
          "data": {
            "text/plain": [
              "\u001b[1m Total params: \u001b[0m\u001b[38;5;34m2,269,509\u001b[0m (8.66 MB)\n"
            ],
            "text/html": [
              "<pre style=\"white-space:pre;overflow-x:auto;line-height:normal;font-family:Menlo,'DejaVu Sans Mono',consolas,'Courier New',monospace\"><span style=\"font-weight: bold\"> Total params: </span><span style=\"color: #00af00; text-decoration-color: #00af00\">2,269,509</span> (8.66 MB)\n",
              "</pre>\n"
            ]
          },
          "metadata": {}
        },
        {
          "output_type": "display_data",
          "data": {
            "text/plain": [
              "\u001b[1m Trainable params: \u001b[0m\u001b[38;5;34m8,965\u001b[0m (35.02 KB)\n"
            ],
            "text/html": [
              "<pre style=\"white-space:pre;overflow-x:auto;line-height:normal;font-family:Menlo,'DejaVu Sans Mono',consolas,'Courier New',monospace\"><span style=\"font-weight: bold\"> Trainable params: </span><span style=\"color: #00af00; text-decoration-color: #00af00\">8,965</span> (35.02 KB)\n",
              "</pre>\n"
            ]
          },
          "metadata": {}
        },
        {
          "output_type": "display_data",
          "data": {
            "text/plain": [
              "\u001b[1m Non-trainable params: \u001b[0m\u001b[38;5;34m2,260,544\u001b[0m (8.62 MB)\n"
            ],
            "text/html": [
              "<pre style=\"white-space:pre;overflow-x:auto;line-height:normal;font-family:Menlo,'DejaVu Sans Mono',consolas,'Courier New',monospace\"><span style=\"font-weight: bold\"> Non-trainable params: </span><span style=\"color: #00af00; text-decoration-color: #00af00\">2,260,544</span> (8.62 MB)\n",
              "</pre>\n"
            ]
          },
          "metadata": {}
        },
        {
          "output_type": "stream",
          "name": "stdout",
          "text": [
            "Epoch 1/10\n",
            "    413/Unknown \u001b[1m706s\u001b[0m 2s/step - accuracy: 0.3470 - loss: 1.7299"
          ]
        },
        {
          "output_type": "stream",
          "name": "stderr",
          "text": [
            "/usr/local/lib/python3.11/dist-packages/keras/src/trainers/epoch_iterator.py:151: UserWarning: Your input ran out of data; interrupting training. Make sure that your dataset or generator can generate at least `steps_per_epoch * epochs` batches. You may need to use the `.repeat()` function when building your dataset.\n",
            "  self._interrupted_warning()\n"
          ]
        },
        {
          "output_type": "stream",
          "name": "stdout",
          "text": [
            "\b\b\b\b\b\b\b\b\b\b\b\b\b\b\b\b\b\b\b\b\b\b\b\b\b\b\b\b\b\b\b\b\b\b\b\b\b\b\b\b\b\b\b\b\b\b\b\b\b\b\b\b\b\b\b\b\b\b\b\b\b\b\r\u001b[1m413/413\u001b[0m \u001b[32m━━━━━━━━━━━━━━━━━━━━\u001b[0m\u001b[37m\u001b[0m \u001b[1m785s\u001b[0m 2s/step - accuracy: 0.3473 - loss: 1.7290 - val_accuracy: 0.6946 - val_loss: 0.8633\n",
            "Epoch 2/10\n",
            "\u001b[1m413/413\u001b[0m \u001b[32m━━━━━━━━━━━━━━━━━━━━\u001b[0m\u001b[37m\u001b[0m \u001b[1m731s\u001b[0m 2s/step - accuracy: 0.6949 - loss: 0.8534 - val_accuracy: 0.7919 - val_loss: 0.6336\n",
            "Epoch 3/10\n",
            "\u001b[1m413/413\u001b[0m \u001b[32m━━━━━━━━━━━━━━━━━━━━\u001b[0m\u001b[37m\u001b[0m \u001b[1m657s\u001b[0m 2s/step - accuracy: 0.7633 - loss: 0.6702 - val_accuracy: 0.8243 - val_loss: 0.5424\n",
            "Epoch 4/10\n",
            "\u001b[1m413/413\u001b[0m \u001b[32m━━━━━━━━━━━━━━━━━━━━\u001b[0m\u001b[37m\u001b[0m \u001b[1m682s\u001b[0m 2s/step - accuracy: 0.8027 - loss: 0.5811 - val_accuracy: 0.8351 - val_loss: 0.4958\n",
            "Epoch 5/10\n",
            "\u001b[1m413/413\u001b[0m \u001b[32m━━━━━━━━━━━━━━━━━━━━\u001b[0m\u001b[37m\u001b[0m \u001b[1m742s\u001b[0m 2s/step - accuracy: 0.8222 - loss: 0.5232 - val_accuracy: 0.8486 - val_loss: 0.4683\n",
            "Epoch 6/10\n",
            "\u001b[1m413/413\u001b[0m \u001b[32m━━━━━━━━━━━━━━━━━━━━\u001b[0m\u001b[37m\u001b[0m \u001b[1m743s\u001b[0m 2s/step - accuracy: 0.8337 - loss: 0.4801 - val_accuracy: 0.8595 - val_loss: 0.4507\n",
            "Epoch 7/10\n",
            "\u001b[1m413/413\u001b[0m \u001b[32m━━━━━━━━━━━━━━━━━━━━\u001b[0m\u001b[37m\u001b[0m \u001b[1m741s\u001b[0m 2s/step - accuracy: 0.8464 - loss: 0.4456 - val_accuracy: 0.8676 - val_loss: 0.4387\n",
            "Epoch 8/10\n",
            "\u001b[1m413/413\u001b[0m \u001b[32m━━━━━━━━━━━━━━━━━━━━\u001b[0m\u001b[37m\u001b[0m \u001b[1m681s\u001b[0m 2s/step - accuracy: 0.8539 - loss: 0.4167 - val_accuracy: 0.8676 - val_loss: 0.4303\n",
            "Epoch 9/10\n",
            "\u001b[1m413/413\u001b[0m \u001b[32m━━━━━━━━━━━━━━━━━━━━\u001b[0m\u001b[37m\u001b[0m \u001b[1m682s\u001b[0m 2s/step - accuracy: 0.8652 - loss: 0.3917 - val_accuracy: 0.8730 - val_loss: 0.4243\n",
            "Epoch 10/10\n",
            "\u001b[1m413/413\u001b[0m \u001b[32m━━━━━━━━━━━━━━━━━━━━\u001b[0m\u001b[37m\u001b[0m \u001b[1m741s\u001b[0m 2s/step - accuracy: 0.8731 - loss: 0.3696 - val_accuracy: 0.8703 - val_loss: 0.4199\n"
          ]
        },
        {
          "output_type": "display_data",
          "data": {
            "text/plain": [
              "<IPython.core.display.HTML object>"
            ],
            "text/html": []
          },
          "metadata": {}
        },
        {
          "output_type": "display_data",
          "data": {
            "text/plain": [
              "<IPython.core.display.HTML object>"
            ],
            "text/html": [
              "<br>    <style><br>        .wandb-row {<br>            display: flex;<br>            flex-direction: row;<br>            flex-wrap: wrap;<br>            justify-content: flex-start;<br>            width: 100%;<br>        }<br>        .wandb-col {<br>            display: flex;<br>            flex-direction: column;<br>            flex-basis: 100%;<br>            flex: 1;<br>            padding: 10px;<br>        }<br>    </style><br><div class=\"wandb-row\"><div class=\"wandb-col\"><h3>Run history:</h3><br/><table class=\"wandb\"><tr><td>batch/accuracy</td><td>▁▁▂▂▃▆▆▇▇▇▇▇▇▇▇▇▇▇▇▇▇▇█▇████████████████</td></tr><tr><td>batch/batch_step</td><td>▁▁▁▁▁▂▂▂▂▂▂▃▃▃▃▄▄▄▄▄▅▅▅▅▅▅▅▆▆▆▆▆▆▆▇▇▇▇██</td></tr><tr><td>batch/learning_rate</td><td>▁▁▁▁▁▁▁▁▁▁▁▁▁▁▁▁▁▁▁▁▁▁▁▁▁▁▁▁▁▁▁▁▁▁▁▁▁▁▁▁</td></tr><tr><td>batch/loss</td><td>█▇▄▃▃▂▂▂▂▂▂▂▂▂▂▂▂▂▂▂▂▂▂▁▁▁▁▁▁▁▁▁▁▁▁▂▁▁▁▁</td></tr><tr><td>epoch/accuracy</td><td>▁▅▆▇▇▇████</td></tr><tr><td>epoch/epoch</td><td>▁▂▃▃▄▅▆▆▇█</td></tr><tr><td>epoch/learning_rate</td><td>▁▁▁▁▁▁▁▁▁▁</td></tr><tr><td>epoch/loss</td><td>█▄▃▂▂▂▂▁▁▁</td></tr><tr><td>epoch/val_accuracy</td><td>▁▅▆▇▇▇████</td></tr><tr><td>epoch/val_loss</td><td>█▄▃▂▂▁▁▁▁▁</td></tr></table><br/></div><div class=\"wandb-col\"><h3>Run summary:</h3><br/><table class=\"wandb\"><tr><td>batch/accuracy</td><td>0.87378</td></tr><tr><td>batch/batch_step</td><td>4145</td></tr><tr><td>batch/learning_rate</td><td>0.0001</td></tr><tr><td>batch/loss</td><td>0.36021</td></tr><tr><td>epoch/accuracy</td><td>0.87424</td></tr><tr><td>epoch/epoch</td><td>9</td></tr><tr><td>epoch/learning_rate</td><td>0.0001</td></tr><tr><td>epoch/loss</td><td>0.35955</td></tr><tr><td>epoch/val_accuracy</td><td>0.87027</td></tr><tr><td>epoch/val_loss</td><td>0.41992</td></tr></table><br/></div></div>"
            ]
          },
          "metadata": {}
        },
        {
          "output_type": "display_data",
          "data": {
            "text/plain": [
              "<IPython.core.display.HTML object>"
            ],
            "text/html": [
              " View run <strong style=\"color:#cdcd00\">hopeful-sweep-1</strong> at: <a href='https://wandb.ai/samtrieswnb-vellore-institute-of-technology/5-flowers-transfer-learning/runs/xo9k7xm9' target=\"_blank\">https://wandb.ai/samtrieswnb-vellore-institute-of-technology/5-flowers-transfer-learning/runs/xo9k7xm9</a><br> View project at: <a href='https://wandb.ai/samtrieswnb-vellore-institute-of-technology/5-flowers-transfer-learning' target=\"_blank\">https://wandb.ai/samtrieswnb-vellore-institute-of-technology/5-flowers-transfer-learning</a><br>Synced 5 W&B file(s), 0 media file(s), 0 artifact file(s) and 0 other file(s)"
            ]
          },
          "metadata": {}
        },
        {
          "output_type": "display_data",
          "data": {
            "text/plain": [
              "<IPython.core.display.HTML object>"
            ],
            "text/html": [
              "Find logs at: <code>./wandb/run-20250721_105823-xo9k7xm9/logs</code>"
            ]
          },
          "metadata": {}
        },
        {
          "output_type": "stream",
          "name": "stderr",
          "text": [
            "\u001b[34m\u001b[1mwandb\u001b[0m: Sweep Agent: Waiting for job.\n",
            "\u001b[34m\u001b[1mwandb\u001b[0m: Sweep Agent: Exiting.\n"
          ]
        }
      ]
    }
  ]
}