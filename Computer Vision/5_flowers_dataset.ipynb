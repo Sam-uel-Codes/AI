{
  "nbformat": 4,
  "nbformat_minor": 0,
  "metadata": {
    "colab": {
      "provenance": [],
      "gpuType": "T4",
      "include_colab_link": true
    },
    "kernelspec": {
      "name": "python3",
      "display_name": "Python 3"
    },
    "language_info": {
      "name": "python"
    },
    "accelerator": "GPU"
  },
  "cells": [
    {
      "cell_type": "markdown",
      "metadata": {
        "id": "view-in-github",
        "colab_type": "text"
      },
      "source": [
        "<a href=\"https://colab.research.google.com/github/Sam-uel-Codes/AI/blob/main/5_flowers_dataset.ipynb\" target=\"_parent\"><img src=\"https://colab.research.google.com/assets/colab-badge.svg\" alt=\"Open In Colab\"/></a>"
      ]
    },
    {
      "cell_type": "markdown",
      "source": [
        "<h1> 5 Flower Classification </h1>\n"
      ],
      "metadata": {
        "id": "H5Fst1IPfu04"
      }
    },
    {
      "cell_type": "markdown",
      "source": [
        "<h2> Importing Libraries and Modules </h2>"
      ],
      "metadata": {
        "id": "crNxw1K1nsRR"
      }
    },
    {
      "cell_type": "code",
      "source": [
        "# !pip install wandb\n",
        "\n",
        "# import wandb\n",
        "# from wandb.keras import WandbCallback\n",
        "\n",
        "# import tensorflow as tf\n",
        "# import matplotlib.pyplot as plt\n",
        "# from tensorflow import keras"
      ],
      "metadata": {
        "id": "yqJqMx2ewn8g"
      },
      "execution_count": null,
      "outputs": []
    },
    {
      "cell_type": "code",
      "execution_count": null,
      "metadata": {
        "id": "yHhX1lAIXko-",
        "colab": {
          "base_uri": "https://localhost:8080/",
          "height": 1000
        },
        "outputId": "47829257-d5c9-4a66-cedc-62cdb7ce269d"
      },
      "outputs": [
        {
          "output_type": "stream",
          "name": "stdout",
          "text": [
            "Requirement already satisfied: wandb in /usr/local/lib/python3.11/dist-packages (0.21.0)\n",
            "Requirement already satisfied: click!=8.0.0,>=7.1 in /usr/local/lib/python3.11/dist-packages (from wandb) (8.2.1)\n",
            "Requirement already satisfied: gitpython!=3.1.29,>=1.0.0 in /usr/local/lib/python3.11/dist-packages (from wandb) (3.1.44)\n",
            "Requirement already satisfied: packaging in /usr/local/lib/python3.11/dist-packages (from wandb) (25.0)\n",
            "Requirement already satisfied: platformdirs in /usr/local/lib/python3.11/dist-packages (from wandb) (4.3.8)\n",
            "Requirement already satisfied: protobuf!=4.21.0,!=5.28.0,<7,>=3.19.0 in /usr/local/lib/python3.11/dist-packages (from wandb) (5.29.5)\n",
            "Requirement already satisfied: pydantic<3 in /usr/local/lib/python3.11/dist-packages (from wandb) (2.11.7)\n",
            "Requirement already satisfied: pyyaml in /usr/local/lib/python3.11/dist-packages (from wandb) (6.0.2)\n",
            "Requirement already satisfied: requests<3,>=2.0.0 in /usr/local/lib/python3.11/dist-packages (from wandb) (2.32.3)\n",
            "Requirement already satisfied: sentry-sdk>=2.0.0 in /usr/local/lib/python3.11/dist-packages (from wandb) (2.33.0)\n",
            "Requirement already satisfied: typing-extensions<5,>=4.8 in /usr/local/lib/python3.11/dist-packages (from wandb) (4.14.1)\n",
            "Requirement already satisfied: gitdb<5,>=4.0.1 in /usr/local/lib/python3.11/dist-packages (from gitpython!=3.1.29,>=1.0.0->wandb) (4.0.12)\n",
            "Requirement already satisfied: annotated-types>=0.6.0 in /usr/local/lib/python3.11/dist-packages (from pydantic<3->wandb) (0.7.0)\n",
            "Requirement already satisfied: pydantic-core==2.33.2 in /usr/local/lib/python3.11/dist-packages (from pydantic<3->wandb) (2.33.2)\n",
            "Requirement already satisfied: typing-inspection>=0.4.0 in /usr/local/lib/python3.11/dist-packages (from pydantic<3->wandb) (0.4.1)\n",
            "Requirement already satisfied: charset-normalizer<4,>=2 in /usr/local/lib/python3.11/dist-packages (from requests<3,>=2.0.0->wandb) (3.4.2)\n",
            "Requirement already satisfied: idna<4,>=2.5 in /usr/local/lib/python3.11/dist-packages (from requests<3,>=2.0.0->wandb) (3.10)\n",
            "Requirement already satisfied: urllib3<3,>=1.21.1 in /usr/local/lib/python3.11/dist-packages (from requests<3,>=2.0.0->wandb) (2.4.0)\n",
            "Requirement already satisfied: certifi>=2017.4.17 in /usr/local/lib/python3.11/dist-packages (from requests<3,>=2.0.0->wandb) (2025.7.14)\n",
            "Requirement already satisfied: smmap<6,>=3.0.1 in /usr/local/lib/python3.11/dist-packages (from gitdb<5,>=4.0.1->gitpython!=3.1.29,>=1.0.0->wandb) (5.0.2)\n"
          ]
        },
        {
          "output_type": "display_data",
          "data": {
            "text/plain": [
              "<IPython.core.display.Javascript object>"
            ],
            "application/javascript": [
              "\n",
              "        window._wandbApiKey = new Promise((resolve, reject) => {\n",
              "            function loadScript(url) {\n",
              "            return new Promise(function(resolve, reject) {\n",
              "                let newScript = document.createElement(\"script\");\n",
              "                newScript.onerror = reject;\n",
              "                newScript.onload = resolve;\n",
              "                document.body.appendChild(newScript);\n",
              "                newScript.src = url;\n",
              "            });\n",
              "            }\n",
              "            loadScript(\"https://cdn.jsdelivr.net/npm/postmate/build/postmate.min.js\").then(() => {\n",
              "            const iframe = document.createElement('iframe')\n",
              "            iframe.style.cssText = \"width:0;height:0;border:none\"\n",
              "            document.body.appendChild(iframe)\n",
              "            const handshake = new Postmate({\n",
              "                container: iframe,\n",
              "                url: 'https://wandb.ai/authorize'\n",
              "            });\n",
              "            const timeout = setTimeout(() => reject(\"Couldn't auto authenticate\"), 5000)\n",
              "            handshake.then(function(child) {\n",
              "                child.on('authorize', data => {\n",
              "                    clearTimeout(timeout)\n",
              "                    resolve(data)\n",
              "                });\n",
              "            });\n",
              "            })\n",
              "        });\n",
              "    "
            ]
          },
          "metadata": {}
        },
        {
          "output_type": "stream",
          "name": "stderr",
          "text": [
            "\u001b[34m\u001b[1mwandb\u001b[0m: Logging into wandb.ai. (Learn how to deploy a W&B server locally: https://wandb.me/wandb-server)\n",
            "\u001b[34m\u001b[1mwandb\u001b[0m: You can find your API key in your browser here: https://wandb.ai/authorize?ref=models\n",
            "wandb: Paste an API key from your profile and hit enter:"
          ]
        },
        {
          "name": "stdout",
          "output_type": "stream",
          "text": [
            " ··········\n"
          ]
        },
        {
          "output_type": "stream",
          "name": "stderr",
          "text": [
            "\u001b[34m\u001b[1mwandb\u001b[0m: \u001b[33mWARNING\u001b[0m If you're specifying your api key in code, ensure this code is not shared publicly.\n",
            "\u001b[34m\u001b[1mwandb\u001b[0m: \u001b[33mWARNING\u001b[0m Consider setting the WANDB_API_KEY environment variable, or running `wandb login` from the command line.\n",
            "\u001b[34m\u001b[1mwandb\u001b[0m: No netrc file found, creating one.\n",
            "\u001b[34m\u001b[1mwandb\u001b[0m: Appending key for api.wandb.ai to your netrc file: /root/.netrc\n"
          ]
        },
        {
          "output_type": "stream",
          "name": "stdout",
          "text": [
            "Create sweep with ID: s4oxt31d\n",
            "Sweep URL: https://wandb.ai/samtrieswnb-vellore-institute-of-technology/5-flowers-classification/sweeps/s4oxt31d\n"
          ]
        },
        {
          "output_type": "stream",
          "name": "stderr",
          "text": [
            "\u001b[34m\u001b[1mwandb\u001b[0m: Agent Starting Run: pu1wbhem with config:\n",
            "\u001b[34m\u001b[1mwandb\u001b[0m: \tbatch_size: 8\n",
            "\u001b[34m\u001b[1mwandb\u001b[0m: \tepochs: 5\n",
            "\u001b[34m\u001b[1mwandb\u001b[0m: \thidden_units: 64\n",
            "\u001b[34m\u001b[1mwandb\u001b[0m: \timg_height: 16\n",
            "\u001b[34m\u001b[1mwandb\u001b[0m: \timg_width: 16\n",
            "\u001b[34m\u001b[1mwandb\u001b[0m: \tlearning_rate: 0.001\n",
            "\u001b[34m\u001b[1mwandb\u001b[0m: Currently logged in as: \u001b[33msamtrieswnb\u001b[0m (\u001b[33msamtrieswnb-vellore-institute-of-technology\u001b[0m) to \u001b[32mhttps://api.wandb.ai\u001b[0m. Use \u001b[1m`wandb login --relogin`\u001b[0m to force relogin\n"
          ]
        },
        {
          "output_type": "display_data",
          "data": {
            "text/plain": [
              "<IPython.core.display.HTML object>"
            ],
            "text/html": [
              "Ignoring project 'flowers-classifier-sweep' when running a sweep."
            ]
          },
          "metadata": {}
        },
        {
          "output_type": "display_data",
          "data": {
            "text/plain": [
              "<IPython.core.display.HTML object>"
            ],
            "text/html": [
              "Tracking run with wandb version 0.21.0"
            ]
          },
          "metadata": {}
        },
        {
          "output_type": "display_data",
          "data": {
            "text/plain": [
              "<IPython.core.display.HTML object>"
            ],
            "text/html": [
              "Run data is saved locally in <code>/content/wandb/run-20250721_045635-pu1wbhem</code>"
            ]
          },
          "metadata": {}
        },
        {
          "output_type": "display_data",
          "data": {
            "text/plain": [
              "<IPython.core.display.HTML object>"
            ],
            "text/html": [
              "Syncing run <strong><a href='https://wandb.ai/samtrieswnb-vellore-institute-of-technology/5-flowers-classification/runs/pu1wbhem' target=\"_blank\">pleasant-sweep-1</a></strong> to <a href='https://wandb.ai/samtrieswnb-vellore-institute-of-technology/5-flowers-classification' target=\"_blank\">Weights & Biases</a> (<a href='https://wandb.me/developer-guide' target=\"_blank\">docs</a>)<br>Sweep page: <a href='https://wandb.ai/samtrieswnb-vellore-institute-of-technology/5-flowers-classification/sweeps/s4oxt31d' target=\"_blank\">https://wandb.ai/samtrieswnb-vellore-institute-of-technology/5-flowers-classification/sweeps/s4oxt31d</a>"
            ]
          },
          "metadata": {}
        },
        {
          "output_type": "display_data",
          "data": {
            "text/plain": [
              "<IPython.core.display.HTML object>"
            ],
            "text/html": [
              " View project at <a href='https://wandb.ai/samtrieswnb-vellore-institute-of-technology/5-flowers-classification' target=\"_blank\">https://wandb.ai/samtrieswnb-vellore-institute-of-technology/5-flowers-classification</a>"
            ]
          },
          "metadata": {}
        },
        {
          "output_type": "display_data",
          "data": {
            "text/plain": [
              "<IPython.core.display.HTML object>"
            ],
            "text/html": [
              " View sweep at <a href='https://wandb.ai/samtrieswnb-vellore-institute-of-technology/5-flowers-classification/sweeps/s4oxt31d' target=\"_blank\">https://wandb.ai/samtrieswnb-vellore-institute-of-technology/5-flowers-classification/sweeps/s4oxt31d</a>"
            ]
          },
          "metadata": {}
        },
        {
          "output_type": "display_data",
          "data": {
            "text/plain": [
              "<IPython.core.display.HTML object>"
            ],
            "text/html": [
              " View run at <a href='https://wandb.ai/samtrieswnb-vellore-institute-of-technology/5-flowers-classification/runs/pu1wbhem' target=\"_blank\">https://wandb.ai/samtrieswnb-vellore-institute-of-technology/5-flowers-classification/runs/pu1wbhem</a>"
            ]
          },
          "metadata": {}
        },
        {
          "output_type": "stream",
          "name": "stderr",
          "text": [
            "/usr/local/lib/python3.11/dist-packages/keras/src/layers/reshaping/flatten.py:37: UserWarning: Do not pass an `input_shape`/`input_dim` argument to a layer. When using Sequential models, prefer using an `Input(shape)` object as the first layer in the model instead.\n",
            "  super().__init__(**kwargs)\n"
          ]
        },
        {
          "output_type": "stream",
          "name": "stdout",
          "text": [
            "Epoch 1/5\n",
            "    413/Unknown \u001b[1m271s\u001b[0m 651ms/step - accuracy: 0.3042 - loss: 1.5309"
          ]
        },
        {
          "output_type": "stream",
          "name": "stderr",
          "text": [
            "/usr/local/lib/python3.11/dist-packages/keras/src/trainers/epoch_iterator.py:151: UserWarning: Your input ran out of data; interrupting training. Make sure that your dataset or generator can generate at least `steps_per_epoch * epochs` batches. You may need to use the `.repeat()` function when building your dataset.\n",
            "  self._interrupted_warning()\n"
          ]
        },
        {
          "output_type": "stream",
          "name": "stdout",
          "text": [
            "\b\b\b\b\b\b\b\b\b\b\b\b\b\b\b\b\b\b\b\b\b\b\b\b\b\b\b\b\b\b\b\b\b\b\b\b\b\b\b\b\b\b\b\b\b\b\b\b\b\b\b\b\b\b\b\b\b\b\b\b\b\b\b\b\b\r\u001b[1m413/413\u001b[0m \u001b[32m━━━━━━━━━━━━━━━━━━━━\u001b[0m\u001b[37m\u001b[0m \u001b[1m301s\u001b[0m 725ms/step - accuracy: 0.3043 - loss: 1.5307 - val_accuracy: 0.4405 - val_loss: 1.2877\n",
            "Epoch 2/5\n",
            "\u001b[1m413/413\u001b[0m \u001b[32m━━━━━━━━━━━━━━━━━━━━\u001b[0m\u001b[37m\u001b[0m \u001b[1m233s\u001b[0m 565ms/step - accuracy: 0.4522 - loss: 1.2688 - val_accuracy: 0.4514 - val_loss: 1.2693\n",
            "Epoch 3/5\n",
            "\u001b[1m413/413\u001b[0m \u001b[32m━━━━━━━━━━━━━━━━━━━━\u001b[0m\u001b[37m\u001b[0m \u001b[1m258s\u001b[0m 556ms/step - accuracy: 0.4463 - loss: 1.2175 - val_accuracy: 0.4432 - val_loss: 1.2892\n",
            "Epoch 4/5\n",
            "\u001b[1m413/413\u001b[0m \u001b[32m━━━━━━━━━━━━━━━━━━━━\u001b[0m\u001b[37m\u001b[0m \u001b[1m198s\u001b[0m 401ms/step - accuracy: 0.4924 - loss: 1.1576 - val_accuracy: 0.4568 - val_loss: 1.2553\n",
            "Epoch 5/5\n",
            "\u001b[1m413/413\u001b[0m \u001b[32m━━━━━━━━━━━━━━━━━━━━\u001b[0m\u001b[37m\u001b[0m \u001b[1m180s\u001b[0m 349ms/step - accuracy: 0.5165 - loss: 1.1220 - val_accuracy: 0.4622 - val_loss: 1.2363\n"
          ]
        },
        {
          "output_type": "display_data",
          "data": {
            "text/plain": [
              "<IPython.core.display.HTML object>"
            ],
            "text/html": []
          },
          "metadata": {}
        },
        {
          "output_type": "display_data",
          "data": {
            "text/plain": [
              "<IPython.core.display.HTML object>"
            ],
            "text/html": [
              "<br>    <style><br>        .wandb-row {<br>            display: flex;<br>            flex-direction: row;<br>            flex-wrap: wrap;<br>            justify-content: flex-start;<br>            width: 100%;<br>        }<br>        .wandb-col {<br>            display: flex;<br>            flex-direction: column;<br>            flex-basis: 100%;<br>            flex: 1;<br>            padding: 10px;<br>        }<br>    </style><br><div class=\"wandb-row\"><div class=\"wandb-col\"><h3>Run history:</h3><br/><table class=\"wandb\"><tr><td>epoch/accuracy</td><td>▁▅▆▇█</td></tr><tr><td>epoch/epoch</td><td>▁▃▅▆█</td></tr><tr><td>epoch/learning_rate</td><td>▁▁▁▁▁</td></tr><tr><td>epoch/loss</td><td>█▄▃▂▁</td></tr><tr><td>epoch/val_accuracy</td><td>▁▄▂▆█</td></tr><tr><td>epoch/val_loss</td><td>█▅█▄▁</td></tr></table><br/></div><div class=\"wandb-col\"><h3>Run summary:</h3><br/><table class=\"wandb\"><tr><td>epoch/accuracy</td><td>0.52697</td></tr><tr><td>epoch/epoch</td><td>4</td></tr><tr><td>epoch/learning_rate</td><td>0.001</td></tr><tr><td>epoch/loss</td><td>1.11887</td></tr><tr><td>epoch/val_accuracy</td><td>0.46216</td></tr><tr><td>epoch/val_loss</td><td>1.23631</td></tr></table><br/></div></div>"
            ]
          },
          "metadata": {}
        },
        {
          "output_type": "display_data",
          "data": {
            "text/plain": [
              "<IPython.core.display.HTML object>"
            ],
            "text/html": [
              " View run <strong style=\"color:#cdcd00\">pleasant-sweep-1</strong> at: <a href='https://wandb.ai/samtrieswnb-vellore-institute-of-technology/5-flowers-classification/runs/pu1wbhem' target=\"_blank\">https://wandb.ai/samtrieswnb-vellore-institute-of-technology/5-flowers-classification/runs/pu1wbhem</a><br> View project at: <a href='https://wandb.ai/samtrieswnb-vellore-institute-of-technology/5-flowers-classification' target=\"_blank\">https://wandb.ai/samtrieswnb-vellore-institute-of-technology/5-flowers-classification</a><br>Synced 5 W&B file(s), 0 media file(s), 0 artifact file(s) and 0 other file(s)"
            ]
          },
          "metadata": {}
        },
        {
          "output_type": "display_data",
          "data": {
            "text/plain": [
              "<IPython.core.display.HTML object>"
            ],
            "text/html": [
              "Find logs at: <code>./wandb/run-20250721_045635-pu1wbhem/logs</code>"
            ]
          },
          "metadata": {}
        },
        {
          "output_type": "stream",
          "name": "stderr",
          "text": [
            "\u001b[34m\u001b[1mwandb\u001b[0m: Agent Starting Run: dss8h3bl with config:\n",
            "\u001b[34m\u001b[1mwandb\u001b[0m: \tbatch_size: 8\n",
            "\u001b[34m\u001b[1mwandb\u001b[0m: \tepochs: 5\n",
            "\u001b[34m\u001b[1mwandb\u001b[0m: \thidden_units: 64\n",
            "\u001b[34m\u001b[1mwandb\u001b[0m: \timg_height: 16\n",
            "\u001b[34m\u001b[1mwandb\u001b[0m: \timg_width: 16\n",
            "\u001b[34m\u001b[1mwandb\u001b[0m: \tlearning_rate: 0.0001\n"
          ]
        },
        {
          "output_type": "display_data",
          "data": {
            "text/plain": [
              "<IPython.core.display.HTML object>"
            ],
            "text/html": [
              "Ignoring project 'flowers-classifier-sweep' when running a sweep."
            ]
          },
          "metadata": {}
        },
        {
          "output_type": "display_data",
          "data": {
            "text/plain": [
              "<IPython.core.display.HTML object>"
            ],
            "text/html": [
              "Tracking run with wandb version 0.21.0"
            ]
          },
          "metadata": {}
        },
        {
          "output_type": "display_data",
          "data": {
            "text/plain": [
              "<IPython.core.display.HTML object>"
            ],
            "text/html": [
              "Run data is saved locally in <code>/content/wandb/run-20250721_051617-dss8h3bl</code>"
            ]
          },
          "metadata": {}
        },
        {
          "output_type": "display_data",
          "data": {
            "text/plain": [
              "<IPython.core.display.HTML object>"
            ],
            "text/html": [
              "Syncing run <strong><a href='https://wandb.ai/samtrieswnb-vellore-institute-of-technology/5-flowers-classification/runs/dss8h3bl' target=\"_blank\">stilted-sweep-2</a></strong> to <a href='https://wandb.ai/samtrieswnb-vellore-institute-of-technology/5-flowers-classification' target=\"_blank\">Weights & Biases</a> (<a href='https://wandb.me/developer-guide' target=\"_blank\">docs</a>)<br>Sweep page: <a href='https://wandb.ai/samtrieswnb-vellore-institute-of-technology/5-flowers-classification/sweeps/s4oxt31d' target=\"_blank\">https://wandb.ai/samtrieswnb-vellore-institute-of-technology/5-flowers-classification/sweeps/s4oxt31d</a>"
            ]
          },
          "metadata": {}
        },
        {
          "output_type": "display_data",
          "data": {
            "text/plain": [
              "<IPython.core.display.HTML object>"
            ],
            "text/html": [
              " View project at <a href='https://wandb.ai/samtrieswnb-vellore-institute-of-technology/5-flowers-classification' target=\"_blank\">https://wandb.ai/samtrieswnb-vellore-institute-of-technology/5-flowers-classification</a>"
            ]
          },
          "metadata": {}
        },
        {
          "output_type": "display_data",
          "data": {
            "text/plain": [
              "<IPython.core.display.HTML object>"
            ],
            "text/html": [
              " View sweep at <a href='https://wandb.ai/samtrieswnb-vellore-institute-of-technology/5-flowers-classification/sweeps/s4oxt31d' target=\"_blank\">https://wandb.ai/samtrieswnb-vellore-institute-of-technology/5-flowers-classification/sweeps/s4oxt31d</a>"
            ]
          },
          "metadata": {}
        },
        {
          "output_type": "display_data",
          "data": {
            "text/plain": [
              "<IPython.core.display.HTML object>"
            ],
            "text/html": [
              " View run at <a href='https://wandb.ai/samtrieswnb-vellore-institute-of-technology/5-flowers-classification/runs/dss8h3bl' target=\"_blank\">https://wandb.ai/samtrieswnb-vellore-institute-of-technology/5-flowers-classification/runs/dss8h3bl</a>"
            ]
          },
          "metadata": {}
        },
        {
          "output_type": "stream",
          "name": "stdout",
          "text": [
            "Epoch 1/5\n",
            "\u001b[1m413/413\u001b[0m \u001b[32m━━━━━━━━━━━━━━━━━━━━\u001b[0m\u001b[37m\u001b[0m \u001b[1m142s\u001b[0m 340ms/step - accuracy: 0.2786 - loss: 1.5777 - val_accuracy: 0.4081 - val_loss: 1.3921\n",
            "Epoch 2/5\n",
            "\u001b[1m413/413\u001b[0m \u001b[32m━━━━━━━━━━━━━━━━━━━━\u001b[0m\u001b[37m\u001b[0m \u001b[1m130s\u001b[0m 312ms/step - accuracy: 0.4135 - loss: 1.3792 - val_accuracy: 0.4405 - val_loss: 1.3186\n",
            "Epoch 3/5\n",
            "\u001b[1m413/413\u001b[0m \u001b[32m━━━━━━━━━━━━━━━━━━━━\u001b[0m\u001b[37m\u001b[0m \u001b[1m204s\u001b[0m 463ms/step - accuracy: 0.4388 - loss: 1.3052 - val_accuracy: 0.4486 - val_loss: 1.2797\n",
            "Epoch 4/5\n",
            "\u001b[1m413/413\u001b[0m \u001b[32m━━━━━━━━━━━━━━━━━━━━\u001b[0m\u001b[37m\u001b[0m \u001b[1m200s\u001b[0m 458ms/step - accuracy: 0.4663 - loss: 1.2597 - val_accuracy: 0.4459 - val_loss: 1.2565\n",
            "Epoch 5/5\n",
            "\u001b[1m413/413\u001b[0m \u001b[32m━━━━━━━━━━━━━━━━━━━━\u001b[0m\u001b[37m\u001b[0m \u001b[1m143s\u001b[0m 345ms/step - accuracy: 0.4878 - loss: 1.2274 - val_accuracy: 0.4622 - val_loss: 1.2385\n"
          ]
        },
        {
          "output_type": "display_data",
          "data": {
            "text/plain": [
              "<IPython.core.display.HTML object>"
            ],
            "text/html": []
          },
          "metadata": {}
        },
        {
          "output_type": "display_data",
          "data": {
            "text/plain": [
              "<IPython.core.display.HTML object>"
            ],
            "text/html": [
              "<br>    <style><br>        .wandb-row {<br>            display: flex;<br>            flex-direction: row;<br>            flex-wrap: wrap;<br>            justify-content: flex-start;<br>            width: 100%;<br>        }<br>        .wandb-col {<br>            display: flex;<br>            flex-direction: column;<br>            flex-basis: 100%;<br>            flex: 1;<br>            padding: 10px;<br>        }<br>    </style><br><div class=\"wandb-row\"><div class=\"wandb-col\"><h3>Run history:</h3><br/><table class=\"wandb\"><tr><td>epoch/accuracy</td><td>▁▅▆▇█</td></tr><tr><td>epoch/epoch</td><td>▁▃▅▆█</td></tr><tr><td>epoch/learning_rate</td><td>▁▁▁▁▁</td></tr><tr><td>epoch/loss</td><td>█▄▃▂▁</td></tr><tr><td>epoch/val_accuracy</td><td>▁▅▆▆█</td></tr><tr><td>epoch/val_loss</td><td>█▅▃▂▁</td></tr></table><br/></div><div class=\"wandb-col\"><h3>Run summary:</h3><br/><table class=\"wandb\"><tr><td>epoch/accuracy</td><td>0.49303</td></tr><tr><td>epoch/epoch</td><td>4</td></tr><tr><td>epoch/learning_rate</td><td>0.0001</td></tr><tr><td>epoch/loss</td><td>1.22296</td></tr><tr><td>epoch/val_accuracy</td><td>0.46216</td></tr><tr><td>epoch/val_loss</td><td>1.2385</td></tr></table><br/></div></div>"
            ]
          },
          "metadata": {}
        },
        {
          "output_type": "display_data",
          "data": {
            "text/plain": [
              "<IPython.core.display.HTML object>"
            ],
            "text/html": [
              " View run <strong style=\"color:#cdcd00\">stilted-sweep-2</strong> at: <a href='https://wandb.ai/samtrieswnb-vellore-institute-of-technology/5-flowers-classification/runs/dss8h3bl' target=\"_blank\">https://wandb.ai/samtrieswnb-vellore-institute-of-technology/5-flowers-classification/runs/dss8h3bl</a><br> View project at: <a href='https://wandb.ai/samtrieswnb-vellore-institute-of-technology/5-flowers-classification' target=\"_blank\">https://wandb.ai/samtrieswnb-vellore-institute-of-technology/5-flowers-classification</a><br>Synced 5 W&B file(s), 0 media file(s), 0 artifact file(s) and 0 other file(s)"
            ]
          },
          "metadata": {}
        },
        {
          "output_type": "display_data",
          "data": {
            "text/plain": [
              "<IPython.core.display.HTML object>"
            ],
            "text/html": [
              "Find logs at: <code>./wandb/run-20250721_051617-dss8h3bl/logs</code>"
            ]
          },
          "metadata": {}
        },
        {
          "output_type": "stream",
          "name": "stderr",
          "text": [
            "\u001b[34m\u001b[1mwandb\u001b[0m: Agent Starting Run: ws8a9lqa with config:\n",
            "\u001b[34m\u001b[1mwandb\u001b[0m: \tbatch_size: 8\n",
            "\u001b[34m\u001b[1mwandb\u001b[0m: \tepochs: 5\n",
            "\u001b[34m\u001b[1mwandb\u001b[0m: \thidden_units: 64\n",
            "\u001b[34m\u001b[1mwandb\u001b[0m: \timg_height: 16\n",
            "\u001b[34m\u001b[1mwandb\u001b[0m: \timg_width: 32\n",
            "\u001b[34m\u001b[1mwandb\u001b[0m: \tlearning_rate: 0.001\n"
          ]
        },
        {
          "output_type": "display_data",
          "data": {
            "text/plain": [
              "<IPython.core.display.HTML object>"
            ],
            "text/html": [
              "Ignoring project 'flowers-classifier-sweep' when running a sweep."
            ]
          },
          "metadata": {}
        },
        {
          "output_type": "display_data",
          "data": {
            "text/plain": [
              "<IPython.core.display.HTML object>"
            ],
            "text/html": [
              "Tracking run with wandb version 0.21.0"
            ]
          },
          "metadata": {}
        },
        {
          "output_type": "display_data",
          "data": {
            "text/plain": [
              "<IPython.core.display.HTML object>"
            ],
            "text/html": [
              "Run data is saved locally in <code>/content/wandb/run-20250721_053100-ws8a9lqa</code>"
            ]
          },
          "metadata": {}
        },
        {
          "output_type": "display_data",
          "data": {
            "text/plain": [
              "<IPython.core.display.HTML object>"
            ],
            "text/html": [
              "Syncing run <strong><a href='https://wandb.ai/samtrieswnb-vellore-institute-of-technology/5-flowers-classification/runs/ws8a9lqa' target=\"_blank\">wild-sweep-3</a></strong> to <a href='https://wandb.ai/samtrieswnb-vellore-institute-of-technology/5-flowers-classification' target=\"_blank\">Weights & Biases</a> (<a href='https://wandb.me/developer-guide' target=\"_blank\">docs</a>)<br>Sweep page: <a href='https://wandb.ai/samtrieswnb-vellore-institute-of-technology/5-flowers-classification/sweeps/s4oxt31d' target=\"_blank\">https://wandb.ai/samtrieswnb-vellore-institute-of-technology/5-flowers-classification/sweeps/s4oxt31d</a>"
            ]
          },
          "metadata": {}
        },
        {
          "output_type": "display_data",
          "data": {
            "text/plain": [
              "<IPython.core.display.HTML object>"
            ],
            "text/html": [
              " View project at <a href='https://wandb.ai/samtrieswnb-vellore-institute-of-technology/5-flowers-classification' target=\"_blank\">https://wandb.ai/samtrieswnb-vellore-institute-of-technology/5-flowers-classification</a>"
            ]
          },
          "metadata": {}
        },
        {
          "output_type": "display_data",
          "data": {
            "text/plain": [
              "<IPython.core.display.HTML object>"
            ],
            "text/html": [
              " View sweep at <a href='https://wandb.ai/samtrieswnb-vellore-institute-of-technology/5-flowers-classification/sweeps/s4oxt31d' target=\"_blank\">https://wandb.ai/samtrieswnb-vellore-institute-of-technology/5-flowers-classification/sweeps/s4oxt31d</a>"
            ]
          },
          "metadata": {}
        },
        {
          "output_type": "display_data",
          "data": {
            "text/plain": [
              "<IPython.core.display.HTML object>"
            ],
            "text/html": [
              " View run at <a href='https://wandb.ai/samtrieswnb-vellore-institute-of-technology/5-flowers-classification/runs/ws8a9lqa' target=\"_blank\">https://wandb.ai/samtrieswnb-vellore-institute-of-technology/5-flowers-classification/runs/ws8a9lqa</a>"
            ]
          },
          "metadata": {}
        },
        {
          "output_type": "stream",
          "name": "stdout",
          "text": [
            "Epoch 1/5\n",
            "\u001b[1m413/413\u001b[0m \u001b[32m━━━━━━━━━━━━━━━━━━━━\u001b[0m\u001b[37m\u001b[0m \u001b[1m132s\u001b[0m 316ms/step - accuracy: 0.3366 - loss: 1.5041 - val_accuracy: 0.4486 - val_loss: 1.2470\n",
            "Epoch 2/5\n",
            "\u001b[1m413/413\u001b[0m \u001b[32m━━━━━━━━━━━━━━━━━━━━\u001b[0m\u001b[37m\u001b[0m \u001b[1m137s\u001b[0m 306ms/step - accuracy: 0.4563 - loss: 1.2577 - val_accuracy: 0.4811 - val_loss: 1.2128\n",
            "Epoch 3/5\n",
            "\u001b[1m413/413\u001b[0m \u001b[32m━━━━━━━━━━━━━━━━━━━━\u001b[0m\u001b[37m\u001b[0m \u001b[1m121s\u001b[0m 293ms/step - accuracy: 0.4954 - loss: 1.2015 - val_accuracy: 0.4919 - val_loss: 1.2212\n",
            "Epoch 4/5\n",
            "\u001b[1m413/413\u001b[0m \u001b[32m━━━━━━━━━━━━━━━━━━━━\u001b[0m\u001b[37m\u001b[0m \u001b[1m203s\u001b[0m 440ms/step - accuracy: 0.5132 - loss: 1.1560 - val_accuracy: 0.4892 - val_loss: 1.2196\n",
            "Epoch 5/5\n",
            "\u001b[1m413/413\u001b[0m \u001b[32m━━━━━━━━━━━━━━━━━━━━\u001b[0m\u001b[37m\u001b[0m \u001b[1m150s\u001b[0m 313ms/step - accuracy: 0.5414 - loss: 1.1168 - val_accuracy: 0.4757 - val_loss: 1.2238\n"
          ]
        },
        {
          "output_type": "display_data",
          "data": {
            "text/plain": [
              "<IPython.core.display.HTML object>"
            ],
            "text/html": []
          },
          "metadata": {}
        },
        {
          "output_type": "display_data",
          "data": {
            "text/plain": [
              "<IPython.core.display.HTML object>"
            ],
            "text/html": [
              "<br>    <style><br>        .wandb-row {<br>            display: flex;<br>            flex-direction: row;<br>            flex-wrap: wrap;<br>            justify-content: flex-start;<br>            width: 100%;<br>        }<br>        .wandb-col {<br>            display: flex;<br>            flex-direction: column;<br>            flex-basis: 100%;<br>            flex: 1;<br>            padding: 10px;<br>        }<br>    </style><br><div class=\"wandb-row\"><div class=\"wandb-col\"><h3>Run history:</h3><br/><table class=\"wandb\"><tr><td>epoch/accuracy</td><td>▁▄▆▇█</td></tr><tr><td>epoch/epoch</td><td>▁▃▅▆█</td></tr><tr><td>epoch/learning_rate</td><td>▁▁▁▁▁</td></tr><tr><td>epoch/loss</td><td>█▄▃▂▁</td></tr><tr><td>epoch/val_accuracy</td><td>▁▆██▅</td></tr><tr><td>epoch/val_loss</td><td>█▁▃▂▃</td></tr></table><br/></div><div class=\"wandb-col\"><h3>Run summary:</h3><br/><table class=\"wandb\"><tr><td>epoch/accuracy</td><td>0.54121</td></tr><tr><td>epoch/epoch</td><td>4</td></tr><tr><td>epoch/learning_rate</td><td>0.001</td></tr><tr><td>epoch/loss</td><td>1.1208</td></tr><tr><td>epoch/val_accuracy</td><td>0.47568</td></tr><tr><td>epoch/val_loss</td><td>1.22383</td></tr></table><br/></div></div>"
            ]
          },
          "metadata": {}
        },
        {
          "output_type": "display_data",
          "data": {
            "text/plain": [
              "<IPython.core.display.HTML object>"
            ],
            "text/html": [
              " View run <strong style=\"color:#cdcd00\">wild-sweep-3</strong> at: <a href='https://wandb.ai/samtrieswnb-vellore-institute-of-technology/5-flowers-classification/runs/ws8a9lqa' target=\"_blank\">https://wandb.ai/samtrieswnb-vellore-institute-of-technology/5-flowers-classification/runs/ws8a9lqa</a><br> View project at: <a href='https://wandb.ai/samtrieswnb-vellore-institute-of-technology/5-flowers-classification' target=\"_blank\">https://wandb.ai/samtrieswnb-vellore-institute-of-technology/5-flowers-classification</a><br>Synced 5 W&B file(s), 0 media file(s), 0 artifact file(s) and 0 other file(s)"
            ]
          },
          "metadata": {}
        },
        {
          "output_type": "display_data",
          "data": {
            "text/plain": [
              "<IPython.core.display.HTML object>"
            ],
            "text/html": [
              "Find logs at: <code>./wandb/run-20250721_053100-ws8a9lqa/logs</code>"
            ]
          },
          "metadata": {}
        },
        {
          "output_type": "stream",
          "name": "stderr",
          "text": [
            "\u001b[34m\u001b[1mwandb\u001b[0m: Agent Starting Run: eejd7b4r with config:\n",
            "\u001b[34m\u001b[1mwandb\u001b[0m: \tbatch_size: 8\n",
            "\u001b[34m\u001b[1mwandb\u001b[0m: \tepochs: 5\n",
            "\u001b[34m\u001b[1mwandb\u001b[0m: \thidden_units: 64\n",
            "\u001b[34m\u001b[1mwandb\u001b[0m: \timg_height: 16\n",
            "\u001b[34m\u001b[1mwandb\u001b[0m: \timg_width: 32\n",
            "\u001b[34m\u001b[1mwandb\u001b[0m: \tlearning_rate: 0.0001\n"
          ]
        },
        {
          "output_type": "display_data",
          "data": {
            "text/plain": [
              "<IPython.core.display.HTML object>"
            ],
            "text/html": [
              "Ignoring project 'flowers-classifier-sweep' when running a sweep."
            ]
          },
          "metadata": {}
        },
        {
          "output_type": "display_data",
          "data": {
            "text/plain": [
              "<IPython.core.display.HTML object>"
            ],
            "text/html": [
              "Tracking run with wandb version 0.21.0"
            ]
          },
          "metadata": {}
        },
        {
          "output_type": "display_data",
          "data": {
            "text/plain": [
              "<IPython.core.display.HTML object>"
            ],
            "text/html": [
              "Run data is saved locally in <code>/content/wandb/run-20250721_054340-eejd7b4r</code>"
            ]
          },
          "metadata": {}
        },
        {
          "output_type": "display_data",
          "data": {
            "text/plain": [
              "<IPython.core.display.HTML object>"
            ],
            "text/html": [
              "Syncing run <strong><a href='https://wandb.ai/samtrieswnb-vellore-institute-of-technology/5-flowers-classification/runs/eejd7b4r' target=\"_blank\">decent-sweep-4</a></strong> to <a href='https://wandb.ai/samtrieswnb-vellore-institute-of-technology/5-flowers-classification' target=\"_blank\">Weights & Biases</a> (<a href='https://wandb.me/developer-guide' target=\"_blank\">docs</a>)<br>Sweep page: <a href='https://wandb.ai/samtrieswnb-vellore-institute-of-technology/5-flowers-classification/sweeps/s4oxt31d' target=\"_blank\">https://wandb.ai/samtrieswnb-vellore-institute-of-technology/5-flowers-classification/sweeps/s4oxt31d</a>"
            ]
          },
          "metadata": {}
        },
        {
          "output_type": "display_data",
          "data": {
            "text/plain": [
              "<IPython.core.display.HTML object>"
            ],
            "text/html": [
              " View project at <a href='https://wandb.ai/samtrieswnb-vellore-institute-of-technology/5-flowers-classification' target=\"_blank\">https://wandb.ai/samtrieswnb-vellore-institute-of-technology/5-flowers-classification</a>"
            ]
          },
          "metadata": {}
        },
        {
          "output_type": "display_data",
          "data": {
            "text/plain": [
              "<IPython.core.display.HTML object>"
            ],
            "text/html": [
              " View sweep at <a href='https://wandb.ai/samtrieswnb-vellore-institute-of-technology/5-flowers-classification/sweeps/s4oxt31d' target=\"_blank\">https://wandb.ai/samtrieswnb-vellore-institute-of-technology/5-flowers-classification/sweeps/s4oxt31d</a>"
            ]
          },
          "metadata": {}
        },
        {
          "output_type": "display_data",
          "data": {
            "text/plain": [
              "<IPython.core.display.HTML object>"
            ],
            "text/html": [
              " View run at <a href='https://wandb.ai/samtrieswnb-vellore-institute-of-technology/5-flowers-classification/runs/eejd7b4r' target=\"_blank\">https://wandb.ai/samtrieswnb-vellore-institute-of-technology/5-flowers-classification/runs/eejd7b4r</a>"
            ]
          },
          "metadata": {}
        },
        {
          "output_type": "stream",
          "name": "stdout",
          "text": [
            "Epoch 1/5\n",
            "     22/Unknown \u001b[1m6s\u001b[0m 240ms/step - accuracy: 0.1934 - loss: 1.6797"
          ]
        },
        {
          "output_type": "stream",
          "name": "stderr",
          "text": [
            "\u001b[34m\u001b[1mwandb\u001b[0m: Ctrl + C detected. Stopping sweep.\n"
          ]
        }
      ],
      "source": [
        "# Install Weights & Biases if not already installed\n",
        "!pip install --upgrade wandb\n",
        "\n",
        "import wandb\n",
        "from wandb.integration.keras import WandbMetricsLogger\n",
        "import tensorflow as tf\n",
        "from tensorflow import keras\n",
        "\n",
        "# Constants\n",
        "IMG_CHANNELS = 3\n",
        "CLASS_NAMES = [\"daisy\", \"dandelion\", \"roses\", \"sunflowers\", \"tulips\"]\n",
        "\n",
        "def read_and_decode(filename, resize_dims):\n",
        "    img_bytes = tf.io.read_file(filename)\n",
        "    img = tf.image.decode_jpeg(img_bytes, channels=IMG_CHANNELS)\n",
        "    img = tf.image.convert_image_dtype(img, tf.float32)\n",
        "    img = tf.image.resize(img, resize_dims)\n",
        "    return img\n",
        "\n",
        "def parse_csvline(csv_line, img_height, img_width):\n",
        "    record_default = [\"\", \"\"]\n",
        "    filename, label_string = tf.io.decode_csv(csv_line, record_default)\n",
        "    img = read_and_decode(filename, [img_height, img_width])\n",
        "    label = tf.argmax(tf.math.equal(CLASS_NAMES, label_string))\n",
        "    return img, label\n",
        "\n",
        "def train():\n",
        "    # Initialize a W&B run for this training instance\n",
        "    wandb.init(project=\"flowers-classifier-sweep\")\n",
        "    config = wandb.config\n",
        "\n",
        "    IMG_HEIGHT = config.img_height\n",
        "    IMG_WIDTH = config.img_width\n",
        "    BATCH_SIZE = config.batch_size\n",
        "    EPOCHS = config.epochs\n",
        "    LEARNING_RATE = config.learning_rate\n",
        "    HIDDEN_UNITS = config.hidden_units\n",
        "\n",
        "    # Prepare datasets with dynamic image dimensions and batch size\n",
        "    train_dataset = (\n",
        "        tf.data.TextLineDataset(\"gs://cloud-ml-data/img/flower_photos/train_set.csv\")\n",
        "        .map(lambda line: parse_csvline(line, IMG_HEIGHT, IMG_WIDTH), num_parallel_calls=tf.data.AUTOTUNE)\n",
        "        .batch(BATCH_SIZE)\n",
        "        .prefetch(tf.data.AUTOTUNE)\n",
        "    )\n",
        "\n",
        "    eval_dataset = (\n",
        "        tf.data.TextLineDataset(\"gs://cloud-ml-data/img/flower_photos/eval_set.csv\")\n",
        "        .map(lambda line: parse_csvline(line, IMG_HEIGHT, IMG_WIDTH), num_parallel_calls=tf.data.AUTOTUNE)\n",
        "        .batch(BATCH_SIZE)\n",
        "        .prefetch(tf.data.AUTOTUNE)\n",
        "    )\n",
        "\n",
        "    # Define the model\n",
        "    model = keras.Sequential([\n",
        "        keras.layers.Flatten(input_shape=(IMG_HEIGHT, IMG_WIDTH, IMG_CHANNELS)),\n",
        "        keras.layers.Dense(HIDDEN_UNITS, activation=\"relu\"),\n",
        "        keras.layers.Dense(len(CLASS_NAMES), activation=\"softmax\")\n",
        "    ])\n",
        "\n",
        "    model.compile(\n",
        "        optimizer=keras.optimizers.Adam(learning_rate=LEARNING_RATE),\n",
        "        loss=keras.losses.SparseCategoricalCrossentropy(from_logits=False),\n",
        "        metrics=[\"accuracy\"]\n",
        "    )\n",
        "\n",
        "    # Train the model with W&B logging enabled\n",
        "    model.fit(\n",
        "        train_dataset,\n",
        "        validation_data=eval_dataset,\n",
        "        epochs=EPOCHS,\n",
        "        callbacks=[WandbMetricsLogger()]\n",
        "    )\n",
        "    wandb.finish()\n",
        "\n",
        "# Sweep configuration\n",
        "sweep_config = {\n",
        "    'method': 'grid',\n",
        "    'metric': {\n",
        "        'name': 'val_accuracy',\n",
        "        'goal': 'maximize'\n",
        "    },\n",
        "    'parameters': {\n",
        "        'epochs': {'values': [5, 10]},\n",
        "        'batch_size': {'values': [8, 16]},\n",
        "        'img_height': {'values': [16, 32]},\n",
        "        'img_width': {'values': [16, 32]},\n",
        "        'learning_rate': {'values': [0.001, 0.0001]},\n",
        "        'hidden_units': {'values': [64, 128]}\n",
        "    }\n",
        "}\n",
        "\n",
        "# Create and launch the sweep\n",
        "sweep_id = wandb.sweep(sweep_config, project=\"5-flowers-classification\")\n",
        "wandb.agent(sweep_id, function=train)\n"
      ]
    }
  ]
}